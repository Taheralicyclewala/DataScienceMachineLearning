{
 "cells": [
  {
   "cell_type": "code",
   "execution_count": 71,
   "metadata": {
    "collapsed": false
   },
   "outputs": [
    {
     "name": "stdout",
     "output_type": "stream",
     "text": [
      "Populating the interactive namespace from numpy and matplotlib\n"
     ]
    }
   ],
   "source": [
    "%pylab inline\n",
    "\n",
    "import pandas as pd\n",
    "import numpy as np\n",
    "\n",
    "# Seaborn requires matplotlib package to be installed\n",
    "# https://stanford.edu/~mwaskom/software/seaborn/installing.html\n",
    "#\n",
    "# If it is not available, use:\n",
    "# pip install matplotlib\n",
    "# \n",
    "# If you are using Anaconda distribution, then\n",
    "# conda install matplotlib\n",
    "import seaborn as sb\n",
    "import json\n",
    "import datetime"
   ]
  },
  {
   "cell_type": "code",
   "execution_count": 72,
   "metadata": {
    "collapsed": false
   },
   "outputs": [
    {
     "name": "stdout",
     "output_type": "stream",
     "text": [
      "   Row_ID  User_ID   Product  \\\n",
      "0       1       32  Product1   \n",
      "1       2       32  Product2   \n",
      "2       3       32  Product3   \n",
      "3       4       32  Product4   \n",
      "4       5       32  Product5   \n",
      "5       6       49  Product1   \n",
      "6       7       49  Product2   \n",
      "7       8       49  Product3   \n",
      "8       9       49  Product4   \n",
      "9      10       49  Product5   \n",
      "\n",
      "                                              Amount  Entry_Date  \n",
      "0  [149, 830, 441, 863, 850, 804, 232, 891, 321, ...  2015-12-29  \n",
      "1  [15, 259, 264, 365, 972, 254, 78, 767, 553, 85...  2015-12-29  \n",
      "2  [898, 475, 346, 235, 227, 230, 316, 418, 723, ...  2015-12-29  \n",
      "3  [384, 847, 692, 796, 350, 1, 499, 858, 333, 94...  2015-12-29  \n",
      "4  [347, 665, 964, 188, 399, 380, 621, 477, 74, 1...  2015-12-29  \n",
      "5  [543, 185, 743, 955, 214, 896, 387, 257, 640, ...  2015-12-29  \n",
      "6  [479, 599, 95, 869, 54, 823, 359, 245, 67, 831...  2015-12-29  \n",
      "7  [711, 906, 928, 77, 668, 818, 8, 983, 161, 289...  2015-12-29  \n",
      "8  [866, 754, 777, 834, 578, 323, 285, 437, 277, ...  2015-12-29  \n",
      "9  [190, 703, 406, 396, 791, 682, 454, 728, 208, ...  2015-12-29  \n",
      "Index([u'Row_ID', u'User_ID', u'Product', u'Amount', u'Entry_Date'], dtype='object')\n",
      "Row_ID         int64\n",
      "User_ID        int64\n",
      "Product       object\n",
      "Amount        object\n",
      "Entry_Date    object\n",
      "dtype: object\n"
     ]
    }
   ],
   "source": [
    "# Read and inspect the data file\n",
    "df = pd.read_csv(\"product_test_data.csv\")\n",
    "print df.head(10)\n",
    "print df.columns\n",
    "print df.dtypes"
   ]
  },
  {
   "cell_type": "markdown",
   "metadata": {},
   "source": [
    "## Data Transformations"
   ]
  },
  {
   "cell_type": "code",
   "execution_count": 73,
   "metadata": {
    "collapsed": false
   },
   "outputs": [
    {
     "name": "stdout",
     "output_type": "stream",
     "text": [
      "   Row_ID  User_ID   Product  Entry_Date  Total_Amount  No_of_entries\n",
      "0       1       32  Product1  2015-12-29        301651            599\n",
      "1       2       32  Product2  2015-12-29        472310            951\n",
      "2       3       32  Product3  2015-12-29         29540             59\n",
      "3       4       32  Product4  2015-12-29        294157            574\n",
      "4       5       32  Product5  2015-12-29        507424            990\n",
      "5       6       49  Product1  2015-12-29        440261            858\n",
      "6       7       49  Product2  2015-12-29        259892            513\n",
      "7       8       49  Product3  2015-12-29          8527             16\n",
      "8       9       49  Product4  2015-12-29        202962            412\n",
      "9      10       49  Product5  2015-12-29        289457            554\n",
      "Index([u'Row_ID', u'User_ID', u'Product', u'Entry_Date', u'Total_Amount',\n",
      "       u'No_of_entries'],\n",
      "      dtype='object')\n"
     ]
    }
   ],
   "source": [
    "# Convert the string which has a list of values to an actual python list\n",
    "df[\"Amount\"] = df[\"Amount\"].apply(json.loads)\n",
    "\n",
    "# Create a new column which has the sum of production application\n",
    "df[\"Total_Amount\"] = df[\"Amount\"].apply(sum)\n",
    "\n",
    "# Create a new column for the number of entries\n",
    "df[\"No_of_entries\"] = df[\"Amount\"].apply(len)\n",
    "\n",
    "# Remove unused columns\n",
    "df.drop([\"Amount\"], axis=1, inplace=True)\n",
    "\n",
    "# Check if the transformations have been successful\n",
    "print df.head(10)\n",
    "print df.columns"
   ]
  },
  {
   "cell_type": "markdown",
   "metadata": {},
   "source": [
    "# 1) List the top 10 customers who had the maximum usage of all products"
   ]
  },
  {
   "cell_type": "code",
   "execution_count": 74,
   "metadata": {
    "collapsed": false
   },
   "outputs": [
    {
     "name": "stdout",
     "output_type": "stream",
     "text": [
      "   index  User_ID  Total_Amount\n",
      "0     12       12      71658457\n",
      "1     14       14      65294006\n",
      "2     49       49      63823203\n",
      "3     29       29      62586179\n",
      "4     36       36      61682301\n",
      "5     41       41      61397703\n",
      "6     30       30      61292633\n",
      "7     16       16      61094152\n",
      "8      5        5      60841238\n",
      "9     11       11      60616799\n"
     ]
    }
   ],
   "source": [
    "# Perform a Group-By operation on \"User_ID\" and sum up the \"Total_Amount\" field\n",
    "top10_users_products = df.groupby(['User_ID'], as_index=False)['Total_Amount'].sum()\n",
    "\n",
    "# Sort in descending order based on \"Total_Amount\" field\n",
    "top10_users_products.sort_values(\"Total_Amount\", ascending=False, inplace=True)\n",
    "\n",
    "# By default, pandas retains the index values as in the original dataframe.\n",
    "# Reset the index to start from beginning\n",
    "top10_users_products.reset_index(inplace=True)\n",
    "\n",
    "# Show only the top 10 records\n",
    "print top10_users_products.head(10)"
   ]
  },
  {
   "cell_type": "markdown",
   "metadata": {},
   "source": [
    "## 2) List the top 3 users who has the most number of data entries for \"Product1\""
   ]
  },
  {
   "cell_type": "code",
   "execution_count": 75,
   "metadata": {
    "collapsed": false
   },
   "outputs": [
    {
     "name": "stdout",
     "output_type": "stream",
     "text": [
      "       User_ID  No_of_entries\n",
      "10185       43           1000\n",
      "9855         5            998\n",
      "3095        14            998\n"
     ]
    }
   ],
   "source": [
    "# Filter rows for \"Product1\"\n",
    "top3_product1 = df[df[\"Product\"] == \"Product1\"]\n",
    "\n",
    "# Extract the columns - \"User_ID\" and \"No_of_entries\"\n",
    "top3_product1 = top3_product1[[\"User_ID\", \"No_of_entries\"]]\n",
    "\n",
    "# Sort on \"No_of_entries\" column in descending order\n",
    "top3_product1.sort_values(\"No_of_entries\", ascending=False, inplace=True)\n",
    "\n",
    "# Display top 3 rows\n",
    "print top3_product1.head(3)"
   ]
  },
  {
   "cell_type": "markdown",
   "metadata": {},
   "source": [
    "## 3) Which product has the maximum usage across all customers?"
   ]
  },
  {
   "cell_type": "code",
   "execution_count": 76,
   "metadata": {
    "collapsed": false
   },
   "outputs": [
    {
     "name": "stdout",
     "output_type": "stream",
     "text": [
      "Product            Product5\n",
      "Total_Amount    5.58105e+08\n",
      "dtype: object\n"
     ]
    }
   ],
   "source": [
    "product_max_usage = df.groupby([\"Product\"], as_index=False)[\"Total_Amount\"].sum()\n",
    "print product_max_usage.max(column=\"Total_Amount\")"
   ]
  },
  {
   "cell_type": "markdown",
   "metadata": {},
   "source": [
    "## 4) Find the weekly usage of each product across all users"
   ]
  },
  {
   "cell_type": "code",
   "execution_count": 77,
   "metadata": {
    "collapsed": false
   },
   "outputs": [
    {
     "name": "stdout",
     "output_type": "stream",
     "text": [
      "     Product  Week  Total_Amount\n",
      "0   Product1     1      28317175\n",
      "14  Product2     1      31352269\n",
      "28  Product3     1      25861477\n",
      "42  Product4     1      29108386\n",
      "56  Product5     1      30708937\n",
      "1   Product1     2      35294506\n",
      "15  Product2     2      34503744\n",
      "29  Product3     2      35996603\n",
      "43  Product4     2      39420560\n",
      "57  Product5     2      38736725\n",
      "2   Product1     3      44675352\n",
      "16  Product2     3      42741370\n",
      "30  Product3     3      44776651\n",
      "44  Product4     3      40735130\n",
      "58  Product5     3      41976218\n",
      "3   Product1     4      27321105\n",
      "17  Product2     4      24911192\n",
      "31  Product3     4      27531769\n",
      "45  Product4     4      26312989\n",
      "59  Product5     4      24572855\n",
      "4   Product1     5      41320269\n",
      "18  Product2     5      42365552\n",
      "32  Product3     5      44853512\n",
      "46  Product4     5      42839699\n",
      "60  Product5     5      42637323\n",
      "5   Product1     6      48098657\n",
      "19  Product2     6      42317855\n",
      "33  Product3     6      44735495\n",
      "47  Product4     6      45644232\n",
      "61  Product5     6      43334767\n",
      "..       ...   ...           ...\n",
      "8   Product1     9      45389292\n",
      "22  Product2     9      50427627\n",
      "36  Product3     9      50747032\n",
      "50  Product4     9      50478423\n",
      "64  Product5     9      47246878\n",
      "9   Product1    10      41223646\n",
      "23  Product2    10      40077062\n",
      "37  Product3    10      43361125\n",
      "51  Product4    10      41398103\n",
      "65  Product5    10      40549232\n",
      "10  Product1    11      31583056\n",
      "24  Product2    11      32625095\n",
      "38  Product3    11      32628838\n",
      "52  Product4    11      31387592\n",
      "66  Product5    11      36858528\n",
      "11  Product1    12      34138951\n",
      "25  Product2    12      35059649\n",
      "39  Product3    12      32590244\n",
      "53  Product4    12      31595925\n",
      "67  Product5    12      30915374\n",
      "12  Product1    13      58906712\n",
      "26  Product2    13      53652729\n",
      "40  Product3    13      59766895\n",
      "54  Product4    13      55971195\n",
      "68  Product5    13      54307877\n",
      "13  Product1    14       6709871\n",
      "27  Product2    14       6486804\n",
      "41  Product3    14       5887876\n",
      "55  Product4    14       7595824\n",
      "69  Product5    14       7770799\n",
      "\n",
      "[70 rows x 3 columns]\n"
     ]
    }
   ],
   "source": [
    "# Survey duration is given as 90 days\n",
    "SURVEY_DURATION = 90\n",
    "\n",
    "# Take the current time\n",
    "today_date = datetime.datetime.today()\n",
    "\n",
    "# Calculate the start date as 90 days prior\n",
    "start_date = today_date - datetime.timedelta(days=SURVEY_DURATION)\n",
    "\n",
    "# Convert the date that is a string to YY-MM-DD format and\n",
    "# find the number of days elapsed from the start date\n",
    "df[\"Days\"] = (df[\"Entry_Date\"].apply(lambda x: datetime.datetime.strptime(x, \"%Y-%m-%d\")) - start_date) / np.timedelta64(1, \"D\")\n",
    "\n",
    "# Round off the day values to a whole number\n",
    "df[\"Days\"] = df[\"Days\"].round(0)\n",
    "\n",
    "# Calculate the week by dividing the number of days by 7.\n",
    "# Add 1 to start the week count from 1 instead of 0\n",
    "df[\"Week\"] = ((df[\"Days\"] / 7) + 1).round()\n",
    "\n",
    "# Remove the \"Days\" column\n",
    "df.drop([\"Days\"], axis=1, inplace=True)\n",
    "\n",
    "\n",
    "# Group by \"Product\" and \"Week\" fields followed by summation over \"Total_Amount\" field\n",
    "weekly_usage_all_products = df.groupby([\"Product\", \"Week\"], as_index=False)[\"Total_Amount\"].sum()\n",
    "\n",
    "# Sort by \"Week\" and then \"Product\"\n",
    "weekly_usage_all_products.sort_values([\"Week\", \"Product\"], inplace=True)\n",
    "\n",
    "print weekly_usage_all_products"
   ]
  },
  {
   "cell_type": "code",
   "execution_count": 78,
   "metadata": {
    "collapsed": false
   },
   "outputs": [
    {
     "name": "stdout",
     "output_type": "stream",
     "text": [
      "<seaborn.axisgrid.FacetGrid object at 0x000000000A843780>\n"
     ]
    },
    {
     "data": {
      "image/png": "[encoded data removed]",
      "text/plain": [
       "<matplotlib.figure.Figure at 0x37d0f0f0>"
      ]
     },
     "metadata": {},
     "output_type": "display_data"
    }
   ],
   "source": [
    "# Plotting the above data using seaborn package\n",
    "print sb.factorplot(\n",
    "    x=\"Week\", y=\"Total_Amount\",\n",
    "    hue=\"Product\",\n",
    "    data=weekly_usage_all_products,\n",
    "    size=12,\n",
    "    kind=\"bar\",\n",
    "    palette=\"muted\"\n",
    ")"
   ]
  },
  {
   "cell_type": "code",
   "execution_count": null,
   "metadata": {
    "collapsed": true
   },
   "outputs": [],
   "source": []
  }
 ],
 "metadata": {
  "kernelspec": {
   "display_name": "Python 2",
   "language": "python",
   "name": "python2"
  },
  "language_info": {
   "codemirror_mode": {
    "name": "ipython",
    "version": 2
   },
   "file_extension": ".py",
   "mimetype": "text/x-python",
   "name": "python",
   "nbconvert_exporter": "python",
   "pygments_lexer": "ipython2",
   "version": "2.7.11"
  }
 },
 "nbformat": 4,
 "nbformat_minor": 0
}
